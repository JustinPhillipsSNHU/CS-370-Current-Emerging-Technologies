{
 "cells": [
  {
   "cell_type": "markdown",
   "metadata": {},
   "source": [
    "# Treasure Hunt Game Notebook\n",
    "\n",
    "## Read and Review Your Starter Code\n",
    "The theme of this project is a popular treasure hunt game in which the player needs to find the treasure before the pirate does. While you will not be developing the entire game, you will write the part of the game that represents the intelligent agent, which is a pirate in this case. The pirate will try to find the optimal path to the treasure using deep Q-learning. \n",
    "\n",
    "You have been provided with two Python classes and this notebook to help you with this assignment. The first class, TreasureMaze.py, represents the environment, which includes a maze object defined as a matrix. The second class, GameExperience.py, stores the episodes – that is, all the states that come in between the initial state and the terminal state. This is later used by the agent for learning by experience, called \"exploration\". This notebook shows how to play a game. Your task is to complete the deep Q-learning implementation for which a skeleton implementation has been provided. The code blocks you will need to complete has #TODO as a header.\n",
    "\n",
    "First, read and review the next few code and instruction blocks to understand the code that you have been given."
   ]
  },
  {
   "cell_type": "code",
   "execution_count": 1,
   "metadata": {},
   "outputs": [
    {
     "name": "stderr",
     "output_type": "stream",
     "text": [
      "Using TensorFlow backend.\n"
     ]
    }
   ],
   "source": [
    "from __future__ import print_function\n",
    "import os, sys, time, datetime, json, random\n",
    "import numpy as np\n",
    "from keras.models import Sequential\n",
    "from keras.layers.core import Dense, Activation\n",
    "from keras.optimizers import SGD , Adam, RMSprop\n",
    "from keras.layers.advanced_activations import PReLU\n",
    "import matplotlib.pyplot as plt\n",
    "from TreasureMaze import TreasureMaze\n",
    "from GameExperience import GameExperience\n",
    "%matplotlib inline"
   ]
  },
  {
   "cell_type": "markdown",
   "metadata": {},
   "source": [
    "The following code block contains an 8x8 matrix that will be used as a maze object:"
   ]
  },
  {
   "cell_type": "code",
   "execution_count": 2,
   "metadata": {},
   "outputs": [],
   "source": [
    "maze = np.array([\n",
    "    [ 1.,  0.,  1.,  1.,  1.,  1.,  1.,  1.],\n",
    "    [ 1.,  0.,  1.,  1.,  1.,  0.,  1.,  1.],\n",
    "    [ 1.,  1.,  1.,  1.,  0.,  1.,  0.,  1.],\n",
    "    [ 1.,  1.,  1.,  0.,  1.,  1.,  1.,  1.],\n",
    "    [ 1.,  1.,  0.,  1.,  1.,  1.,  1.,  1.],\n",
    "    [ 1.,  1.,  1.,  0.,  1.,  0.,  0.,  0.],\n",
    "    [ 1.,  1.,  1.,  0.,  1.,  1.,  1.,  1.],\n",
    "    [ 1.,  1.,  1.,  1.,  0.,  1.,  1.,  1.]\n",
    "])"
   ]
  },
  {
   "cell_type": "markdown",
   "metadata": {},
   "source": [
    "This helper function allows a visual representation of the maze object:"
   ]
  },
  {
   "cell_type": "code",
   "execution_count": 3,
   "metadata": {},
   "outputs": [],
   "source": [
    "def show(qmaze):\n",
    "    plt.grid('on')\n",
    "    nrows, ncols = qmaze.maze.shape\n",
    "    ax = plt.gca()\n",
    "    ax.set_xticks(np.arange(0.5, nrows, 1))\n",
    "    ax.set_yticks(np.arange(0.5, ncols, 1))\n",
    "    ax.set_xticklabels([])\n",
    "    ax.set_yticklabels([])\n",
    "    canvas = np.copy(qmaze.maze)\n",
    "    for row,col in qmaze.visited:\n",
    "        canvas[row,col] = 0.6\n",
    "    pirate_row, pirate_col, _ = qmaze.state\n",
    "    canvas[pirate_row, pirate_col] = 0.3   # pirate cell\n",
    "    canvas[nrows-1, ncols-1] = 0.9 # treasure cell\n",
    "    img = plt.imshow(canvas, interpolation='none', cmap='gray')\n",
    "    return img"
   ]
  },
  {
   "cell_type": "markdown",
   "metadata": {},
   "source": [
    "The pirate agent can move in four directions: left, right, up, and down. \n",
    "\n",
    "While the agent primarily learns by experience through exploitation, often, the agent can choose to explore the environment to find previously undiscovered paths. This is called \"exploration\" and is defined by epsilon. This value is typically a lower value such as 0.1, which means for every ten attempts, the agent will attempt to learn by experience nine times and will randomly explore a new path one time. You are encouraged to try various values for the exploration factor and see how the algorithm performs."
   ]
  },
  {
   "cell_type": "code",
   "execution_count": 4,
   "metadata": {},
   "outputs": [],
   "source": [
    "LEFT = 0\n",
    "UP = 1\n",
    "RIGHT = 2\n",
    "DOWN = 3\n",
    "\n",
    "\n",
    "# Exploration factor\n",
    "epsilon = 0.1\n",
    "\n",
    "# Actions dictionary\n",
    "actions_dict = {\n",
    "    LEFT: 'left',\n",
    "    UP: 'up',\n",
    "    RIGHT: 'right',\n",
    "    DOWN: 'down',\n",
    "}\n",
    "\n",
    "num_actions = len(actions_dict)\n"
   ]
  },
  {
   "cell_type": "markdown",
   "metadata": {},
   "source": [
    "The sample code block and output below show creating a maze object and performing one action (DOWN), which returns the reward. The resulting updated environment is visualized."
   ]
  },
  {
   "cell_type": "code",
   "execution_count": 5,
   "metadata": {},
   "outputs": [
    {
     "name": "stdout",
     "output_type": "stream",
     "text": [
      "reward= -0.04\n"
     ]
    },
    {
     "data": {
      "text/plain": [
       "<matplotlib.image.AxesImage at 0x24c7e782f08>"
      ]
     },
     "execution_count": 5,
     "metadata": {},
     "output_type": "execute_result"
    },
    {
     "data": {
      "image/png": "[encoded data removed]",
      "text/plain": [
       "<Figure size 432x288 with 1 Axes>"
      ]
     },
     "metadata": {
      "needs_background": "light"
     },
     "output_type": "display_data"
    }
   ],
   "source": [
    "qmaze = TreasureMaze(maze)\n",
    "canvas, reward, game_over = qmaze.act(DOWN)\n",
    "print(\"reward=\", reward)\n",
    "show(qmaze)"
   ]
  },
  {
   "cell_type": "markdown",
   "metadata": {},
   "source": [
    "This function simulates a full game based on the provided trained model. The other parameters include the TreasureMaze object and the starting position of the pirate."
   ]
  },
  {
   "cell_type": "code",
   "execution_count": 6,
   "metadata": {},
   "outputs": [],
   "source": [
    "def play_game(model, qmaze, pirate_cell):\n",
    "    qmaze.reset(pirate_cell)\n",
    "    envstate = qmaze.observe()\n",
    "    while True:\n",
    "        prev_envstate = envstate\n",
    "        # get next action\n",
    "        q = model.predict(prev_envstate)\n",
    "        action = np.argmax(q[0])\n",
    "\n",
    "        # apply action, get rewards and new state\n",
    "        envstate, reward, game_status = qmaze.act(action)\n",
    "        if game_status == 'win':\n",
    "            return True\n",
    "        elif game_status == 'lose':\n",
    "            return False"
   ]
  },
  {
   "cell_type": "markdown",
   "metadata": {},
   "source": [
    "This function helps you to determine whether the pirate can win any game at all. If your maze is not well designed, the pirate may not win any game at all. In this case, your training would not yield any result. The provided maze in this notebook ensures that there is a path to win and you can run this method to check."
   ]
  },
  {
   "cell_type": "code",
   "execution_count": 7,
   "metadata": {},
   "outputs": [],
   "source": [
    "def completion_check(model, qmaze):\n",
    "    for cell in qmaze.free_cells:\n",
    "        if not qmaze.valid_actions(cell):\n",
    "            return False\n",
    "        if not play_game(model, qmaze, cell):\n",
    "            return False\n",
    "    return True"
   ]
  },
  {
   "cell_type": "markdown",
   "metadata": {},
   "source": [
    "The code you have been given in this block will build the neural network model. Review the code and note the number of layers, as well as the activation, optimizer, and loss functions that are used to train the model."
   ]
  },
  {
   "cell_type": "code",
   "execution_count": 8,
   "metadata": {},
   "outputs": [],
   "source": [
    "def build_model(maze):\n",
    "    model = Sequential()\n",
    "    model.add(Dense(maze.size, input_shape=(maze.size,)))\n",
    "    model.add(PReLU())\n",
    "    model.add(Dense(maze.size))\n",
    "    model.add(PReLU())\n",
    "    model.add(Dense(num_actions))\n",
    "    model.compile(optimizer='adam', loss='mse')\n",
    "    return model"
   ]
  },
  {
   "cell_type": "markdown",
   "metadata": {},
   "source": [
    "# #TODO: Complete the Q-Training Algorithm Code Block\n",
    "\n",
    "This is your deep Q-learning implementation. The goal of your deep Q-learning implementation is to find the best possible navigation sequence that results in reaching the treasure cell while maximizing the reward. In your implementation, you need to determine the optimal number of epochs to achieve a 100% win rate.\n",
    "\n",
    "You will need to complete the section starting with #pseudocode. The pseudocode has been included for you."
   ]
  },
  {
   "cell_type": "code",
   "execution_count": 9,
   "metadata": {},
   "outputs": [],
   "source": [
    "def qtrain(model, maze, **opt):\n",
    "\n",
    "    # exploration factor\n",
    "    global epsilon \n",
    "\n",
    "    # number of epochs\n",
    "    n_epoch = opt.get('n_epoch', 15000)\n",
    "\n",
    "    # maximum memory to store episodes\n",
    "    max_memory = opt.get('max_memory', 1000)\n",
    "\n",
    "    # maximum data size for training\n",
    "    data_size = opt.get('data_size', 50)\n",
    "\n",
    "    # start time\n",
    "    start_time = datetime.datetime.now()\n",
    "\n",
    "    # Construct environment/game from numpy array: maze (see above)\n",
    "    qmaze = TreasureMaze(maze)\n",
    "\n",
    "    # Initialize experience replay object\n",
    "    experience = GameExperience(model, max_memory=max_memory)\n",
    "    \n",
    "    win_history = []   # history of win/lose game\n",
    "    hsize = qmaze.maze.size//2   # history window size\n",
    "    win_rate = 0.0\n",
    "    epsilon = 0.1\n",
    "    \n",
    "    # pseudocode:\n",
    "    # For each epoch:\n",
    "    #    Agent_cell = randomly select a free cell\n",
    "    #    Reset the maze with agent set to above position\n",
    "    #    Hint: Review the reset method in the TreasureMaze.py class.\n",
    "    #    envstate = Environment.current_state\n",
    "    #    Hint: Review the observe method in the TreasureMaze.py class.\n",
    "    #    While state is not game over:\n",
    "    #        previous_envstate = envstate\n",
    "    #        Action = randomly choose action (left, right, up, down) either by exploration or by exploitation\n",
    "    #        envstate, reward, game_status = qmaze.act(action)\n",
    "    #    Hint: Review the act method in the TreasureMaze.py class.\n",
    "    #        episode = [previous_envstate, action, reward, envstate, game_status]\n",
    "    #        Store episode in Experience replay object                \n",
    "    #    Hint: Review the remember method in the GameExperience.py class.\n",
    "    #        Train neural network model and evaluate loss\n",
    "    #    Hint: Call GameExperience.get_data to retrieve training data (input and target) and pass to model.fit method \n",
    "    #          to train the model. You can call model.evaluate to determine loss.\n",
    "    #    If the win rate is above the threshold and your model passes the completion check, that would be your epoch.\n",
    "\n",
    "    \n",
    "    for epoch in range(n_epoch):\n",
    "        # Initialize epoch\n",
    "        # Choose a random free cell and reset the maze with the pirate to the position\n",
    "        agent_cell = random.choice(qmaze.free_cells) \n",
    "        n_episodes = 0 # W/o n_episodes code below todo breaks\n",
    "        qmaze.reset(agent_cell) \n",
    "        envstate = qmaze.observe() #Initial observation of envstate\n",
    "        \n",
    "        # During game loop\n",
    "        while True: #qmaze.game_status() == 'not_over':\n",
    "            prev_envstate = envstate # cache state\n",
    "            \n",
    "            valid_actions = qmaze.valid_actions() # Only allow selection of valid actions\n",
    "            if not valid_actions:\n",
    "                print(\"No valid actions\")\n",
    "                break\n",
    "                \n",
    "            if qmaze.game_status() == 'win' or qmaze.game_status() == 'lose':\n",
    "                print(\"Game over: \" + qmaze.game_status())\n",
    "                if qmaze.game_status() == 'win': # If win, record the win. Else, assume a loss and record it.\n",
    "                    win_history.append(1)\n",
    "                else:\n",
    "                    win_history.append(0)\n",
    "                break\n",
    "                \n",
    "            if random.random() < epsilon:\n",
    "                action = random.choice(valid_actions)\n",
    "                #print(\"Random \" + str(action))\n",
    "            else:\n",
    "                action = np.argmax(experience.predict(envstate))\n",
    "                #print(\"Informed \" + str(action))\n",
    "                \n",
    "            envstate, reward, game_status = qmaze.act(action)\n",
    "            episode = [prev_envstate, action, reward, envstate, game_status]\n",
    "            experience.remember(episode)\n",
    "            n_episodes += 1\n",
    "            \n",
    "            inputs, targets = experience.get_data(data_size=data_size)\n",
    "            # Train the model. As the model gains more understanding/recordings as episodes go on, do larger epoch reflections and batch sizes.\n",
    "            model.fit(inputs, targets, epochs=clamp(n_episodes,2,32), batch_size=clamp(n_episodes,2,128)), verbose=0)\n",
    "            loss = model.evaluate(inputs, targets, verbose=0) # Quietly record the loss\n",
    "        \n",
    "        win_rate = sum(win_history)/len(win_history) # Win rate needs to be calculated for use after epochs\n",
    "    \n",
    "\n",
    "    #Print the epoch, loss, episodes, win count, and win rate for each epoch\n",
    "        dt = datetime.datetime.now() - start_time\n",
    "        t = format_time(dt.total_seconds())\n",
    "        template = \"Epoch: {:03d}/{:d} | Loss: {:.4f} | Episodes: {:d} | Win count: {:d} | Win rate: {:.3f} | time: {}\"\n",
    "        print(template.format(epoch, n_epoch-1, loss, n_episodes, sum(win_history), win_rate, t))\n",
    "        # We simply check if training has exhausted all free cells and if in all\n",
    "        # cases the agent won.\n",
    "        if win_rate > 0.9 : epsilon = 0.05\n",
    "        if sum(win_history[-hsize:]) == hsize and completion_check(model, qmaze):\n",
    "            print(\"Reached 100%% win rate at epoch: %d\" % (epoch,))\n",
    "            break\n",
    "\n",
    "\n",
    "    # Determine the total time for training\n",
    "    dt = datetime.datetime.now() - start_time\n",
    "    seconds = dt.total_seconds()\n",
    "    t = format_time(seconds)\n",
    "\n",
    "    print(\"n_epoch: %d, max_mem: %d, data: %d, time: %s\" % (epoch, max_memory, data_size, t))\n",
    "    return seconds\n",
    "\n",
    "# This is a small utility for printing readable time strings:\n",
    "def format_time(seconds):\n",
    "    if seconds < 400:\n",
    "        s = float(seconds)\n",
    "        return \"%.1f seconds\" % (s,)\n",
    "    elif seconds < 4000:\n",
    "        m = seconds / 60.0\n",
    "        return \"%.2f minutes\" % (m,)\n",
    "    else:\n",
    "        h = seconds / 3600.0\n",
    "        return \"%.2f hours\" % (h,)"
   ]
  },
  {
   "cell_type": "markdown",
   "metadata": {},
   "source": [
    "## Test Your Model\n",
    "\n",
    "Now we will start testing the deep Q-learning implementation. To begin, select **Cell**, then **Run All** from the menu bar. This will run your notebook. As it runs, you should see output begin to appear beneath the next few cells. The code below creates an instance of TreasureMaze."
   ]
  },
  {
   "cell_type": "code",
   "execution_count": 10,
   "metadata": {
    "scrolled": true
   },
   "outputs": [
    {
     "data": {
      "text/plain": [
       "<matplotlib.image.AxesImage at 0x24c7e808348>"
      ]
     },
     "execution_count": 10,
     "metadata": {},
     "output_type": "execute_result"
    },
    {
     "data": {
      "image/png": "[encoded data removed]",
      "text/plain": [
       "<Figure size 432x288 with 1 Axes>"
      ]
     },
     "metadata": {
      "needs_background": "light"
     },
     "output_type": "display_data"
    }
   ],
   "source": [
    "qmaze = TreasureMaze(maze)\n",
    "show(qmaze)"
   ]
  },
  {
   "cell_type": "markdown",
   "metadata": {},
   "source": [
    "In the next code block, you will build your model and train it using deep Q-learning. Note: This step takes several minutes to fully run."
   ]
  },
  {
   "cell_type": "code",
   "execution_count": 11,
   "metadata": {},
   "outputs": [
    {
     "name": "stdout",
     "output_type": "stream",
     "text": [
      "Game over: lose\n",
      "Epoch: 000/14999 | Loss: 0.0003 | Episodes: 133 | Win count: 0 | Win rate: 0.000 | time: 42.0 seconds\n",
      "Game over: lose\n",
      "Epoch: 001/14999 | Loss: 0.0001 | Episodes: 146 | Win count: 0 | Win rate: 0.000 | time: 99.5 seconds\n",
      "Game over: lose\n",
      "Epoch: 002/14999 | Loss: 0.0002 | Episodes: 139 | Win count: 0 | Win rate: 0.000 | time: 144.5 seconds\n",
      "Game over: lose\n",
      "Epoch: 003/14999 | Loss: 0.0003 | Episodes: 142 | Win count: 0 | Win rate: 0.000 | time: 192.7 seconds\n",
      "Game over: win\n",
      "Epoch: 004/14999 | Loss: 0.0008 | Episodes: 120 | Win count: 1 | Win rate: 0.200 | time: 229.6 seconds\n",
      "Game over: win\n",
      "Epoch: 005/14999 | Loss: 0.0124 | Episodes: 26 | Win count: 2 | Win rate: 0.333 | time: 236.0 seconds\n",
      "Game over: win\n",
      "Epoch: 006/14999 | Loss: 0.0025 | Episodes: 131 | Win count: 3 | Win rate: 0.429 | time: 273.5 seconds\n",
      "Game over: win\n",
      "Epoch: 007/14999 | Loss: 0.0139 | Episodes: 4 | Win count: 4 | Win rate: 0.500 | time: 274.2 seconds\n",
      "Game over: win\n",
      "Epoch: 008/14999 | Loss: 0.0032 | Episodes: 20 | Win count: 5 | Win rate: 0.556 | time: 278.8 seconds\n",
      "Game over: win\n",
      "Epoch: 009/14999 | Loss: 0.0016 | Episodes: 5 | Win count: 6 | Win rate: 0.600 | time: 279.6 seconds\n",
      "Game over: win\n",
      "Epoch: 010/14999 | Loss: 0.0014 | Episodes: 32 | Win count: 7 | Win rate: 0.636 | time: 287.4 seconds\n",
      "Game over: win\n",
      "Epoch: 011/14999 | Loss: 0.0011 | Episodes: 27 | Win count: 8 | Win rate: 0.667 | time: 293.8 seconds\n",
      "Game over: lose\n",
      "Epoch: 012/14999 | Loss: 0.0007 | Episodes: 138 | Win count: 8 | Win rate: 0.615 | time: 338.1 seconds\n",
      "Game over: lose\n",
      "Epoch: 013/14999 | Loss: 0.0005 | Episodes: 153 | Win count: 8 | Win rate: 0.571 | time: 385.8 seconds\n",
      "Game over: win\n",
      "Epoch: 014/14999 | Loss: 0.0011 | Episodes: 14 | Win count: 9 | Win rate: 0.600 | time: 388.8 seconds\n",
      "Game over: win\n",
      "Epoch: 015/14999 | Loss: 0.0004 | Episodes: 47 | Win count: 10 | Win rate: 0.625 | time: 6.70 minutes\n",
      "Game over: win\n",
      "Epoch: 016/14999 | Loss: 0.0002 | Episodes: 59 | Win count: 11 | Win rate: 0.647 | time: 6.98 minutes\n",
      "Game over: win\n",
      "Epoch: 017/14999 | Loss: 0.0002 | Episodes: 36 | Win count: 12 | Win rate: 0.667 | time: 7.12 minutes\n"
     ]
    },
    {
     "name": "stderr",
     "output_type": "stream",
     "text": [
      "C:\\ProgramData\\Anaconda3\\lib\\site-packages\\keras\\callbacks\\callbacks.py:95: RuntimeWarning: Method (on_train_batch_end) is slow compared to the batch update (0.187439). Check your callbacks.\n",
      "  % (hook_name, delta_t_median), RuntimeWarning)\n"
     ]
    },
    {
     "name": "stdout",
     "output_type": "stream",
     "text": [
      "Game over: win\n",
      "Epoch: 018/14999 | Loss: 0.0008 | Episodes: 67 | Win count: 13 | Win rate: 0.684 | time: 7.47 minutes\n",
      "Game over: win\n",
      "Epoch: 019/14999 | Loss: 0.0005 | Episodes: 62 | Win count: 14 | Win rate: 0.700 | time: 7.75 minutes\n",
      "Game over: win\n",
      "Epoch: 020/14999 | Loss: 0.0100 | Episodes: 4 | Win count: 15 | Win rate: 0.714 | time: 7.76 minutes\n",
      "Game over: win\n",
      "Epoch: 021/14999 | Loss: 0.0005 | Episodes: 35 | Win count: 16 | Win rate: 0.727 | time: 7.91 minutes\n",
      "Game over: win\n",
      "Epoch: 022/14999 | Loss: 0.0006 | Episodes: 19 | Win count: 17 | Win rate: 0.739 | time: 7.99 minutes\n",
      "Game over: win\n",
      "Epoch: 023/14999 | Loss: 0.0004 | Episodes: 22 | Win count: 18 | Win rate: 0.750 | time: 8.07 minutes\n",
      "Game over: win\n",
      "Epoch: 024/14999 | Loss: 0.0010 | Episodes: 10 | Win count: 19 | Win rate: 0.760 | time: 8.11 minutes\n",
      "Game over: win\n",
      "Epoch: 025/14999 | Loss: 0.0006 | Episodes: 37 | Win count: 20 | Win rate: 0.769 | time: 8.29 minutes\n",
      "Game over: win\n",
      "Epoch: 026/14999 | Loss: 0.0009 | Episodes: 36 | Win count: 21 | Win rate: 0.778 | time: 8.44 minutes\n",
      "Game over: win\n",
      "Epoch: 027/14999 | Loss: 0.0023 | Episodes: 2 | Win count: 22 | Win rate: 0.786 | time: 8.45 minutes\n",
      "Game over: win\n",
      "Epoch: 028/14999 | Loss: 0.0006 | Episodes: 10 | Win count: 23 | Win rate: 0.793 | time: 8.48 minutes\n",
      "Game over: win\n",
      "Epoch: 029/14999 | Loss: 0.0020 | Episodes: 2 | Win count: 24 | Win rate: 0.800 | time: 8.49 minutes\n",
      "Game over: win\n",
      "Epoch: 030/14999 | Loss: 0.0017 | Episodes: 3 | Win count: 25 | Win rate: 0.806 | time: 8.50 minutes\n",
      "Game over: win\n",
      "Epoch: 031/14999 | Loss: 0.0017 | Episodes: 1 | Win count: 26 | Win rate: 0.812 | time: 8.51 minutes\n",
      "Game over: win\n",
      "Epoch: 032/14999 | Loss: 0.0007 | Episodes: 19 | Win count: 27 | Win rate: 0.818 | time: 8.58 minutes\n",
      "Game over: win\n",
      "Epoch: 033/14999 | Loss: 0.0008 | Episodes: 59 | Win count: 28 | Win rate: 0.824 | time: 8.88 minutes\n",
      "Game over: win\n",
      "Epoch: 034/14999 | Loss: 0.0004 | Episodes: 23 | Win count: 29 | Win rate: 0.829 | time: 8.98 minutes\n",
      "Game over: win\n",
      "Epoch: 035/14999 | Loss: 0.0008 | Episodes: 34 | Win count: 30 | Win rate: 0.833 | time: 9.15 minutes\n",
      "Game over: win\n",
      "Epoch: 036/14999 | Loss: 0.0004 | Episodes: 35 | Win count: 31 | Win rate: 0.838 | time: 9.32 minutes\n",
      "Game over: win\n",
      "Epoch: 037/14999 | Loss: 0.0007 | Episodes: 41 | Win count: 32 | Win rate: 0.842 | time: 9.53 minutes\n",
      "Game over: win\n",
      "Epoch: 038/14999 | Loss: 0.0010 | Episodes: 33 | Win count: 33 | Win rate: 0.846 | time: 9.67 minutes\n",
      "Game over: win\n",
      "Epoch: 039/14999 | Loss: 0.0008 | Episodes: 7 | Win count: 34 | Win rate: 0.850 | time: 9.70 minutes\n",
      "Game over: win\n",
      "Epoch: 040/14999 | Loss: 0.0004 | Episodes: 3 | Win count: 35 | Win rate: 0.854 | time: 9.71 minutes\n",
      "Game over: win\n",
      "Epoch: 041/14999 | Loss: 0.0004 | Episodes: 29 | Win count: 36 | Win rate: 0.857 | time: 9.84 minutes\n",
      "Game over: win\n",
      "Epoch: 042/14999 | Loss: 0.0006 | Episodes: 11 | Win count: 37 | Win rate: 0.860 | time: 9.88 minutes\n",
      "Game over: win\n",
      "Epoch: 043/14999 | Loss: 0.0030 | Episodes: 6 | Win count: 38 | Win rate: 0.864 | time: 9.91 minutes\n",
      "Game over: win\n",
      "Epoch: 044/14999 | Loss: 0.0007 | Episodes: 22 | Win count: 39 | Win rate: 0.867 | time: 10.00 minutes\n",
      "Game over: win\n",
      "Epoch: 045/14999 | Loss: 0.0005 | Episodes: 32 | Win count: 40 | Win rate: 0.870 | time: 10.14 minutes\n",
      "Game over: win\n",
      "Epoch: 046/14999 | Loss: 0.0010 | Episodes: 25 | Win count: 41 | Win rate: 0.872 | time: 10.24 minutes\n",
      "Game over: win\n",
      "Epoch: 047/14999 | Loss: 0.0035 | Episodes: 1 | Win count: 42 | Win rate: 0.875 | time: 10.25 minutes\n",
      "Game over: win\n",
      "Epoch: 048/14999 | Loss: 0.0009 | Episodes: 19 | Win count: 43 | Win rate: 0.878 | time: 10.32 minutes\n",
      "Game over: win\n",
      "Epoch: 049/14999 | Loss: 0.0005 | Episodes: 18 | Win count: 44 | Win rate: 0.880 | time: 10.39 minutes\n",
      "Game over: win\n",
      "Epoch: 050/14999 | Loss: 0.0013 | Episodes: 17 | Win count: 45 | Win rate: 0.882 | time: 10.45 minutes\n",
      "Game over: win\n",
      "Epoch: 051/14999 | Loss: 0.0008 | Episodes: 7 | Win count: 46 | Win rate: 0.885 | time: 10.48 minutes\n",
      "Game over: win\n",
      "Epoch: 052/14999 | Loss: 0.0009 | Episodes: 39 | Win count: 47 | Win rate: 0.887 | time: 10.65 minutes\n",
      "Game over: win\n",
      "Epoch: 053/14999 | Loss: 0.0006 | Episodes: 22 | Win count: 48 | Win rate: 0.889 | time: 10.73 minutes\n",
      "Game over: win\n",
      "Epoch: 054/14999 | Loss: 0.0007 | Episodes: 10 | Win count: 49 | Win rate: 0.891 | time: 10.78 minutes\n",
      "Game over: win\n",
      "Epoch: 055/14999 | Loss: 0.0011 | Episodes: 16 | Win count: 50 | Win rate: 0.893 | time: 10.86 minutes\n",
      "Game over: win\n",
      "Epoch: 056/14999 | Loss: 0.0014 | Episodes: 3 | Win count: 51 | Win rate: 0.895 | time: 10.88 minutes\n",
      "Game over: win\n",
      "Epoch: 057/14999 | Loss: 0.0011 | Episodes: 21 | Win count: 52 | Win rate: 0.897 | time: 10.97 minutes\n",
      "Game over: win\n",
      "Epoch: 058/14999 | Loss: 0.0005 | Episodes: 20 | Win count: 53 | Win rate: 0.898 | time: 11.07 minutes\n",
      "Game over: win\n",
      "Epoch: 059/14999 | Loss: 0.0011 | Episodes: 36 | Win count: 54 | Win rate: 0.900 | time: 11.28 minutes\n",
      "Game over: win\n",
      "Epoch: 060/14999 | Loss: 0.0005 | Episodes: 7 | Win count: 55 | Win rate: 0.902 | time: 11.32 minutes\n",
      "Game over: win\n",
      "Epoch: 061/14999 | Loss: 0.0022 | Episodes: 1 | Win count: 56 | Win rate: 0.903 | time: 11.33 minutes\n",
      "Game over: win\n",
      "Epoch: 062/14999 | Loss: 0.0009 | Episodes: 21 | Win count: 57 | Win rate: 0.905 | time: 11.43 minutes\n",
      "Game over: win\n",
      "Epoch: 063/14999 | Loss: 0.0003 | Episodes: 26 | Win count: 58 | Win rate: 0.906 | time: 11.55 minutes\n",
      "Game over: win\n",
      "Epoch: 064/14999 | Loss: 0.0007 | Episodes: 43 | Win count: 59 | Win rate: 0.908 | time: 11.78 minutes\n",
      "Game over: win\n",
      "Epoch: 065/14999 | Loss: 0.0004 | Episodes: 17 | Win count: 60 | Win rate: 0.909 | time: 11.86 minutes\n",
      "Game over: win\n",
      "Epoch: 066/14999 | Loss: 0.0011 | Episodes: 7 | Win count: 61 | Win rate: 0.910 | time: 11.89 minutes\n",
      "Game over: win\n",
      "Epoch: 067/14999 | Loss: 0.0009 | Episodes: 10 | Win count: 62 | Win rate: 0.912 | time: 11.95 minutes\n",
      "Game over: win\n",
      "Epoch: 068/14999 | Loss: 0.0019 | Episodes: 1 | Win count: 63 | Win rate: 0.913 | time: 11.96 minutes\n",
      "Game over: win\n",
      "Epoch: 069/14999 | Loss: 0.0007 | Episodes: 20 | Win count: 64 | Win rate: 0.914 | time: 12.05 minutes\n",
      "Game over: win\n",
      "Epoch: 070/14999 | Loss: 0.0007 | Episodes: 19 | Win count: 65 | Win rate: 0.915 | time: 12.15 minutes\n",
      "Game over: win\n",
      "Epoch: 071/14999 | Loss: 0.0010 | Episodes: 16 | Win count: 66 | Win rate: 0.917 | time: 12.22 minutes\n",
      "Game over: win\n",
      "Epoch: 072/14999 | Loss: 0.0008 | Episodes: 36 | Win count: 67 | Win rate: 0.918 | time: 12.41 minutes\n",
      "Game over: win\n",
      "Epoch: 073/14999 | Loss: 0.0011 | Episodes: 18 | Win count: 68 | Win rate: 0.919 | time: 12.49 minutes\n",
      "Game over: win\n",
      "Epoch: 074/14999 | Loss: 0.0003 | Episodes: 23 | Win count: 69 | Win rate: 0.920 | time: 12.60 minutes\n",
      "Game over: win\n",
      "Epoch: 075/14999 | Loss: 0.0007 | Episodes: 54 | Win count: 70 | Win rate: 0.921 | time: 12.87 minutes\n",
      "Game over: win\n",
      "Epoch: 076/14999 | Loss: 0.0011 | Episodes: 9 | Win count: 71 | Win rate: 0.922 | time: 12.90 minutes\n",
      "Game over: win\n",
      "Epoch: 077/14999 | Loss: 0.0002 | Episodes: 39 | Win count: 72 | Win rate: 0.923 | time: 13.10 minutes\n",
      "Game over: win\n",
      "Epoch: 078/14999 | Loss: 0.0002 | Episodes: 25 | Win count: 73 | Win rate: 0.924 | time: 13.21 minutes\n",
      "Game over: win\n",
      "Epoch: 079/14999 | Loss: 0.0015 | Episodes: 23 | Win count: 74 | Win rate: 0.925 | time: 13.30 minutes\n",
      "Game over: win\n",
      "Epoch: 080/14999 | Loss: 0.0005 | Episodes: 16 | Win count: 75 | Win rate: 0.926 | time: 13.36 minutes\n",
      "Game over: win\n",
      "Epoch: 081/14999 | Loss: 0.0003 | Episodes: 19 | Win count: 76 | Win rate: 0.927 | time: 13.45 minutes\n",
      "Game over: win\n",
      "Epoch: 082/14999 | Loss: 0.0005 | Episodes: 24 | Win count: 77 | Win rate: 0.928 | time: 13.54 minutes\n",
      "Game over: win\n",
      "Epoch: 083/14999 | Loss: 0.0010 | Episodes: 12 | Win count: 78 | Win rate: 0.929 | time: 13.58 minutes\n",
      "Game over: win\n",
      "Epoch: 084/14999 | Loss: 0.0005 | Episodes: 15 | Win count: 79 | Win rate: 0.929 | time: 13.65 minutes\n",
      "Game over: win\n",
      "Epoch: 085/14999 | Loss: 0.0004 | Episodes: 19 | Win count: 80 | Win rate: 0.930 | time: 13.74 minutes\n",
      "Game over: win\n",
      "Epoch: 086/14999 | Loss: 0.0004 | Episodes: 33 | Win count: 81 | Win rate: 0.931 | time: 13.91 minutes\n",
      "Game over: win\n",
      "Epoch: 087/14999 | Loss: 0.0008 | Episodes: 2 | Win count: 82 | Win rate: 0.932 | time: 13.92 minutes\n"
     ]
    },
    {
     "name": "stdout",
     "output_type": "stream",
     "text": [
      "Game over: win\n",
      "Epoch: 088/14999 | Loss: 0.0017 | Episodes: 1 | Win count: 83 | Win rate: 0.933 | time: 13.93 minutes\n",
      "Game over: win\n",
      "Epoch: 089/14999 | Loss: 0.0005 | Episodes: 8 | Win count: 84 | Win rate: 0.933 | time: 13.97 minutes\n",
      "Game over: win\n",
      "Epoch: 090/14999 | Loss: 0.0007 | Episodes: 18 | Win count: 85 | Win rate: 0.934 | time: 14.05 minutes\n",
      "Game over: win\n",
      "Epoch: 091/14999 | Loss: 0.0006 | Episodes: 26 | Win count: 86 | Win rate: 0.935 | time: 14.18 minutes\n",
      "Game over: win\n",
      "Epoch: 092/14999 | Loss: 0.0001 | Episodes: 24 | Win count: 87 | Win rate: 0.935 | time: 14.29 minutes\n",
      "Game over: win\n",
      "Epoch: 093/14999 | Loss: 0.0006 | Episodes: 35 | Win count: 88 | Win rate: 0.936 | time: 14.47 minutes\n",
      "Game over: win\n",
      "Epoch: 094/14999 | Loss: 0.0003 | Episodes: 24 | Win count: 89 | Win rate: 0.937 | time: 14.57 minutes\n",
      "Game over: win\n",
      "Epoch: 095/14999 | Loss: 0.0004 | Episodes: 27 | Win count: 90 | Win rate: 0.938 | time: 14.70 minutes\n",
      "Game over: win\n",
      "Epoch: 096/14999 | Loss: 0.0006 | Episodes: 15 | Win count: 91 | Win rate: 0.938 | time: 14.77 minutes\n",
      "Game over: win\n",
      "Epoch: 097/14999 | Loss: 0.0001 | Episodes: 5 | Win count: 92 | Win rate: 0.939 | time: 14.80 minutes\n",
      "Game over: win\n",
      "Epoch: 098/14999 | Loss: 0.0001 | Episodes: 27 | Win count: 93 | Win rate: 0.939 | time: 14.93 minutes\n",
      "Game over: win\n",
      "Epoch: 099/14999 | Loss: 0.0004 | Episodes: 19 | Win count: 94 | Win rate: 0.940 | time: 15.02 minutes\n",
      "Game over: win\n",
      "Epoch: 100/14999 | Loss: 0.0004 | Episodes: 10 | Win count: 95 | Win rate: 0.941 | time: 15.07 minutes\n",
      "Game over: win\n",
      "Epoch: 101/14999 | Loss: 0.0029 | Episodes: 1 | Win count: 96 | Win rate: 0.941 | time: 15.08 minutes\n",
      "Game over: win\n",
      "Epoch: 102/14999 | Loss: 0.0003 | Episodes: 36 | Win count: 97 | Win rate: 0.942 | time: 15.29 minutes\n",
      "Game over: win\n",
      "Epoch: 103/14999 | Loss: 0.0038 | Episodes: 2 | Win count: 98 | Win rate: 0.942 | time: 15.30 minutes\n",
      "Game over: win\n",
      "Epoch: 104/14999 | Loss: 0.0003 | Episodes: 11 | Win count: 99 | Win rate: 0.943 | time: 15.35 minutes\n",
      "Game over: win\n",
      "Epoch: 105/14999 | Loss: 0.0002 | Episodes: 28 | Win count: 100 | Win rate: 0.943 | time: 15.47 minutes\n",
      "Game over: win\n",
      "Epoch: 106/14999 | Loss: 0.0009 | Episodes: 9 | Win count: 101 | Win rate: 0.944 | time: 15.51 minutes\n",
      "Game over: win\n",
      "Epoch: 107/14999 | Loss: 0.0005 | Episodes: 44 | Win count: 102 | Win rate: 0.944 | time: 15.70 minutes\n",
      "Game over: win\n",
      "Epoch: 108/14999 | Loss: 0.0004 | Episodes: 23 | Win count: 103 | Win rate: 0.945 | time: 15.79 minutes\n",
      "Game over: win\n",
      "Epoch: 109/14999 | Loss: 0.0001 | Episodes: 60 | Win count: 104 | Win rate: 0.945 | time: 16.10 minutes\n",
      "Game over: win\n",
      "Epoch: 110/14999 | Loss: 0.0001 | Episodes: 22 | Win count: 105 | Win rate: 0.946 | time: 16.20 minutes\n",
      "Game over: win\n",
      "Epoch: 111/14999 | Loss: 0.0002 | Episodes: 32 | Win count: 106 | Win rate: 0.946 | time: 16.35 minutes\n",
      "Game over: win\n",
      "Epoch: 112/14999 | Loss: 0.0001 | Episodes: 50 | Win count: 107 | Win rate: 0.947 | time: 16.60 minutes\n",
      "Game over: win\n",
      "Epoch: 113/14999 | Loss: 0.0003 | Episodes: 14 | Win count: 108 | Win rate: 0.947 | time: 16.66 minutes\n",
      "Game over: win\n",
      "Epoch: 114/14999 | Loss: 0.0002 | Episodes: 20 | Win count: 109 | Win rate: 0.948 | time: 16.74 minutes\n",
      "Game over: win\n",
      "Epoch: 115/14999 | Loss: 0.0004 | Episodes: 23 | Win count: 110 | Win rate: 0.948 | time: 16.86 minutes\n",
      "Game over: win\n",
      "Epoch: 116/14999 | Loss: 0.0006 | Episodes: 9 | Win count: 111 | Win rate: 0.949 | time: 16.92 minutes\n",
      "Game over: win\n",
      "Epoch: 117/14999 | Loss: 0.0024 | Episodes: 31 | Win count: 112 | Win rate: 0.949 | time: 17.08 minutes\n",
      "Game over: win\n",
      "Epoch: 118/14999 | Loss: 0.0005 | Episodes: 6 | Win count: 113 | Win rate: 0.950 | time: 17.12 minutes\n",
      "Game over: win\n",
      "Epoch: 119/14999 | Loss: 0.0004 | Episodes: 12 | Win count: 114 | Win rate: 0.950 | time: 17.18 minutes\n",
      "Game over: win\n",
      "Epoch: 120/14999 | Loss: 0.0003 | Episodes: 1 | Win count: 115 | Win rate: 0.950 | time: 17.19 minutes\n",
      "Game over: win\n",
      "Epoch: 121/14999 | Loss: 0.0005 | Episodes: 23 | Win count: 116 | Win rate: 0.951 | time: 17.30 minutes\n",
      "Game over: win\n",
      "Epoch: 122/14999 | Loss: 0.0001 | Episodes: 12 | Win count: 117 | Win rate: 0.951 | time: 17.35 minutes\n",
      "Game over: win\n",
      "Epoch: 123/14999 | Loss: 0.0005 | Episodes: 13 | Win count: 118 | Win rate: 0.952 | time: 17.42 minutes\n",
      "Game over: win\n",
      "Epoch: 124/14999 | Loss: 0.0004 | Episodes: 37 | Win count: 119 | Win rate: 0.952 | time: 17.62 minutes\n",
      "Game over: win\n",
      "Epoch: 125/14999 | Loss: 0.0002 | Episodes: 22 | Win count: 120 | Win rate: 0.952 | time: 17.72 minutes\n",
      "Game over: win\n",
      "Epoch: 126/14999 | Loss: 0.0005 | Episodes: 29 | Win count: 121 | Win rate: 0.953 | time: 17.87 minutes\n",
      "Game over: win\n",
      "Epoch: 127/14999 | Loss: 0.0004 | Episodes: 24 | Win count: 122 | Win rate: 0.953 | time: 18.01 minutes\n",
      "Game over: win\n",
      "Epoch: 128/14999 | Loss: 0.0002 | Episodes: 24 | Win count: 123 | Win rate: 0.953 | time: 18.14 minutes\n",
      "Game over: win\n",
      "Epoch: 129/14999 | Loss: 0.0003 | Episodes: 30 | Win count: 124 | Win rate: 0.954 | time: 18.28 minutes\n",
      "Game over: win\n",
      "Epoch: 130/14999 | Loss: 0.0005 | Episodes: 21 | Win count: 125 | Win rate: 0.954 | time: 18.37 minutes\n",
      "Game over: win\n",
      "Epoch: 131/14999 | Loss: 0.0003 | Episodes: 25 | Win count: 126 | Win rate: 0.955 | time: 18.48 minutes\n",
      "Game over: win\n",
      "Epoch: 132/14999 | Loss: 0.0000 | Episodes: 23 | Win count: 127 | Win rate: 0.955 | time: 18.58 minutes\n",
      "Game over: win\n",
      "Epoch: 133/14999 | Loss: 0.0002 | Episodes: 4 | Win count: 128 | Win rate: 0.955 | time: 18.61 minutes\n",
      "Game over: win\n",
      "Epoch: 134/14999 | Loss: 0.0006 | Episodes: 19 | Win count: 129 | Win rate: 0.956 | time: 18.69 minutes\n",
      "Game over: win\n",
      "Epoch: 135/14999 | Loss: 0.0005 | Episodes: 11 | Win count: 130 | Win rate: 0.956 | time: 18.74 minutes\n",
      "Game over: win\n",
      "Epoch: 136/14999 | Loss: 0.0003 | Episodes: 7 | Win count: 131 | Win rate: 0.956 | time: 18.77 minutes\n",
      "Game over: win\n",
      "Epoch: 137/14999 | Loss: 0.0002 | Episodes: 15 | Win count: 132 | Win rate: 0.957 | time: 18.84 minutes\n",
      "Game over: win\n",
      "Epoch: 138/14999 | Loss: 0.0001 | Episodes: 31 | Win count: 133 | Win rate: 0.957 | time: 18.97 minutes\n",
      "Game over: win\n",
      "Epoch: 139/14999 | Loss: 0.0003 | Episodes: 16 | Win count: 134 | Win rate: 0.957 | time: 19.03 minutes\n",
      "Game over: win\n",
      "Epoch: 140/14999 | Loss: 0.0003 | Episodes: 14 | Win count: 135 | Win rate: 0.957 | time: 19.10 minutes\n",
      "Game over: win\n",
      "Epoch: 141/14999 | Loss: 0.0008 | Episodes: 28 | Win count: 136 | Win rate: 0.958 | time: 19.23 minutes\n",
      "Game over: win\n",
      "Epoch: 142/14999 | Loss: 0.0004 | Episodes: 20 | Win count: 137 | Win rate: 0.958 | time: 19.31 minutes\n",
      "Game over: win\n",
      "Epoch: 143/14999 | Loss: 0.0003 | Episodes: 18 | Win count: 138 | Win rate: 0.958 | time: 19.38 minutes\n",
      "Game over: win\n",
      "Epoch: 144/14999 | Loss: 0.0003 | Episodes: 7 | Win count: 139 | Win rate: 0.959 | time: 19.42 minutes\n",
      "Game over: win\n",
      "Epoch: 145/14999 | Loss: 0.0004 | Episodes: 19 | Win count: 140 | Win rate: 0.959 | time: 19.50 minutes\n",
      "Game over: win\n",
      "Epoch: 146/14999 | Loss: 0.0004 | Episodes: 4 | Win count: 141 | Win rate: 0.959 | time: 19.52 minutes\n",
      "Game over: win\n",
      "Epoch: 147/14999 | Loss: 0.0006 | Episodes: 26 | Win count: 142 | Win rate: 0.959 | time: 19.62 minutes\n",
      "Game over: win\n",
      "Epoch: 148/14999 | Loss: 0.0001 | Episodes: 9 | Win count: 143 | Win rate: 0.960 | time: 19.66 minutes\n",
      "Game over: win\n",
      "Epoch: 149/14999 | Loss: 0.0001 | Episodes: 28 | Win count: 144 | Win rate: 0.960 | time: 19.78 minutes\n",
      "Game over: win\n",
      "Epoch: 150/14999 | Loss: 0.0006 | Episodes: 24 | Win count: 145 | Win rate: 0.960 | time: 19.87 minutes\n",
      "Game over: win\n",
      "Epoch: 151/14999 | Loss: 0.0006 | Episodes: 29 | Win count: 146 | Win rate: 0.961 | time: 20.02 minutes\n",
      "Game over: win\n",
      "Epoch: 152/14999 | Loss: 0.0003 | Episodes: 51 | Win count: 147 | Win rate: 0.961 | time: 20.27 minutes\n",
      "Game over: win\n",
      "Epoch: 153/14999 | Loss: 0.0002 | Episodes: 23 | Win count: 148 | Win rate: 0.961 | time: 20.37 minutes\n",
      "Game over: win\n",
      "Epoch: 154/14999 | Loss: 0.0002 | Episodes: 25 | Win count: 149 | Win rate: 0.961 | time: 20.48 minutes\n",
      "Game over: win\n",
      "Epoch: 155/14999 | Loss: 0.0001 | Episodes: 27 | Win count: 150 | Win rate: 0.962 | time: 20.58 minutes\n",
      "Game over: win\n",
      "Epoch: 156/14999 | Loss: 0.0008 | Episodes: 13 | Win count: 151 | Win rate: 0.962 | time: 20.64 minutes\n",
      "Game over: win\n",
      "Epoch: 157/14999 | Loss: 0.0005 | Episodes: 20 | Win count: 152 | Win rate: 0.962 | time: 20.71 minutes\n"
     ]
    },
    {
     "name": "stdout",
     "output_type": "stream",
     "text": [
      "Game over: win\n",
      "Epoch: 158/14999 | Loss: 0.0004 | Episodes: 21 | Win count: 153 | Win rate: 0.962 | time: 20.80 minutes\n",
      "Game over: win\n",
      "Epoch: 159/14999 | Loss: 0.0004 | Episodes: 10 | Win count: 154 | Win rate: 0.963 | time: 20.84 minutes\n",
      "Game over: win\n",
      "Epoch: 160/14999 | Loss: 0.0004 | Episodes: 23 | Win count: 155 | Win rate: 0.963 | time: 20.94 minutes\n",
      "Game over: win\n",
      "Epoch: 161/14999 | Loss: 0.0000 | Episodes: 15 | Win count: 156 | Win rate: 0.963 | time: 21.00 minutes\n",
      "Game over: win\n",
      "Epoch: 162/14999 | Loss: 0.0008 | Episodes: 8 | Win count: 157 | Win rate: 0.963 | time: 21.03 minutes\n",
      "Game over: win\n",
      "Epoch: 163/14999 | Loss: 0.0003 | Episodes: 34 | Win count: 158 | Win rate: 0.963 | time: 21.19 minutes\n",
      "Game over: win\n",
      "Epoch: 164/14999 | Loss: 0.0005 | Episodes: 12 | Win count: 159 | Win rate: 0.964 | time: 21.24 minutes\n",
      "Game over: win\n",
      "Epoch: 165/14999 | Loss: 0.0000 | Episodes: 19 | Win count: 160 | Win rate: 0.964 | time: 21.32 minutes\n",
      "Game over: win\n",
      "Epoch: 166/14999 | Loss: 0.0001 | Episodes: 16 | Win count: 161 | Win rate: 0.964 | time: 21.38 minutes\n",
      "Game over: win\n",
      "Epoch: 167/14999 | Loss: 0.0004 | Episodes: 9 | Win count: 162 | Win rate: 0.964 | time: 21.42 minutes\n",
      "Game over: win\n",
      "Epoch: 168/14999 | Loss: 0.0001 | Episodes: 13 | Win count: 163 | Win rate: 0.964 | time: 21.48 minutes\n",
      "Game over: win\n",
      "Epoch: 169/14999 | Loss: 0.0000 | Episodes: 18 | Win count: 164 | Win rate: 0.965 | time: 21.56 minutes\n",
      "Game over: win\n",
      "Epoch: 170/14999 | Loss: 0.0002 | Episodes: 17 | Win count: 165 | Win rate: 0.965 | time: 21.63 minutes\n",
      "Game over: win\n",
      "Epoch: 171/14999 | Loss: 0.0000 | Episodes: 9 | Win count: 166 | Win rate: 0.965 | time: 21.67 minutes\n",
      "Game over: win\n",
      "Epoch: 172/14999 | Loss: 0.0002 | Episodes: 24 | Win count: 167 | Win rate: 0.965 | time: 21.78 minutes\n",
      "Game over: win\n",
      "Epoch: 173/14999 | Loss: 0.0002 | Episodes: 19 | Win count: 168 | Win rate: 0.966 | time: 21.85 minutes\n",
      "Game over: win\n",
      "Epoch: 174/14999 | Loss: 0.0001 | Episodes: 18 | Win count: 169 | Win rate: 0.966 | time: 21.94 minutes\n",
      "Reached 100% win rate at epoch: 174\n",
      "n_epoch: 174, max_mem: 512, data: 32, time: 21.95 minutes\n"
     ]
    },
    {
     "data": {
      "text/plain": [
       "1317.252025"
      ]
     },
     "execution_count": 11,
     "metadata": {},
     "output_type": "execute_result"
    }
   ],
   "source": [
    "model = build_model(maze)\n",
    "qtrain(model, maze, epochs=1000, max_memory=8*maze.size, data_size=32)"
   ]
  },
  {
   "cell_type": "markdown",
   "metadata": {},
   "source": [
    "This cell will check to see if the model passes the completion check. Note: This could take several minutes."
   ]
  },
  {
   "cell_type": "code",
   "execution_count": 12,
   "metadata": {},
   "outputs": [
    {
     "data": {
      "text/plain": [
       "<matplotlib.image.AxesImage at 0x24c7e80bdc8>"
      ]
     },
     "execution_count": 12,
     "metadata": {},
     "output_type": "execute_result"
    },
    {
     "data": {
      "image/png": "[encoded data removed]",
      "text/plain": [
       "<Figure size 432x288 with 1 Axes>"
      ]
     },
     "metadata": {
      "needs_background": "light"
     },
     "output_type": "display_data"
    }
   ],
   "source": [
    "completion_check(model, qmaze)\n",
    "show(qmaze)"
   ]
  },
  {
   "cell_type": "markdown",
   "metadata": {},
   "source": [
    "This cell will test your model for one game. It will start the pirate at the top-left corner and run play_game. The agent should find a path from the starting position to the target (treasure). The treasure is located in the bottom-right corner."
   ]
  },
  {
   "cell_type": "code",
   "execution_count": 13,
   "metadata": {},
   "outputs": [
    {
     "data": {
      "text/plain": [
       "<matplotlib.image.AxesImage at 0x24c07371e88>"
      ]
     },
     "execution_count": 13,
     "metadata": {},
     "output_type": "execute_result"
    },
    {
     "data": {
      "image/png": "[encoded data removed]",
      "text/plain": [
       "<Figure size 432x288 with 1 Axes>"
      ]
     },
     "metadata": {
      "needs_background": "light"
     },
     "output_type": "display_data"
    }
   ],
   "source": [
    "pirate_start = (0, 0)\n",
    "play_game(model, qmaze, pirate_start)\n",
    "show(qmaze)"
   ]
  },
  {
   "cell_type": "markdown",
   "metadata": {},
   "source": [
    "## Save and Submit Your Work\n",
    "After you have finished creating the code for your notebook, save your work. Make sure that your notebook contains your name in the filename (e.g. Doe_Jane_ProjectTwo.ipynb). This will help your instructor access and grade your work easily. Download a copy of your IPYNB file and submit it to Brightspace. Refer to the Jupyter Notebook in Apporto Tutorial if you need help with these tasks."
   ]
  }
 ],
 "metadata": {
  "kernelspec": {
   "display_name": "Python 3",
   "language": "python",
   "name": "python3"
  },
  "language_info": {
   "codemirror_mode": {
    "name": "ipython",
    "version": 3
   },
   "file_extension": ".py",
   "mimetype": "text/x-python",
   "name": "python",
   "nbconvert_exporter": "python",
   "pygments_lexer": "ipython3",
   "version": "3.7.4"
  }
 },
 "nbformat": 4,
 "nbformat_minor": 2
}
